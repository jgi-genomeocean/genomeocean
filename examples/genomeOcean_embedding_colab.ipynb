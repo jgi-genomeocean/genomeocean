{
  "nbformat": 4,
  "nbformat_minor": 0,
  "metadata": {
    "colab": {
      "provenance": [],
      "gpuType": "T4",
      "collapsed_sections": [
        "YLdA531MGb1z",
        "vLgRCb9KHD-9"
      ]
    },
    "kernelspec": {
      "name": "python3",
      "display_name": "Python 3"
    },
    "language_info": {
      "name": "python"
    },
    "accelerator": "GPU",
    "widgets": {
      "application/vnd.jupyter.widget-state+json": {
        "f548c93bdffb41cc86dd3ce85be5d385": {
          "model_module": "@jupyter-widgets/controls",
          "model_name": "HBoxModel",
          "model_module_version": "1.5.0",
          "state": {
            "_dom_classes": [],
            "_model_module": "@jupyter-widgets/controls",
            "_model_module_version": "1.5.0",
            "_model_name": "HBoxModel",
            "_view_count": null,
            "_view_module": "@jupyter-widgets/controls",
            "_view_module_version": "1.5.0",
            "_view_name": "HBoxView",
            "box_style": "",
            "children": [
              "IPY_MODEL_8cfed4dfb99f401286a25d75b85c7ee7",
              "IPY_MODEL_523cb824899e48c5b95c8c3b55050ea1",
              "IPY_MODEL_72bf194c73e9478e947202a01f510581"
            ],
            "layout": "IPY_MODEL_2a610cff93d9457794c9743760c594c0"
          }
        },
        "8cfed4dfb99f401286a25d75b85c7ee7": {
          "model_module": "@jupyter-widgets/controls",
          "model_name": "HTMLModel",
          "model_module_version": "1.5.0",
          "state": {
            "_dom_classes": [],
            "_model_module": "@jupyter-widgets/controls",
            "_model_module_version": "1.5.0",
            "_model_name": "HTMLModel",
            "_view_count": null,
            "_view_module": "@jupyter-widgets/controls",
            "_view_module_version": "1.5.0",
            "_view_name": "HTMLView",
            "description": "",
            "description_tooltip": null,
            "layout": "IPY_MODEL_3b7a592a3acb4ed6a6ff0b48ca07f185",
            "placeholder": "​",
            "style": "IPY_MODEL_20d2c96893b24b939c5646b3640a6661",
            "value": "Loading checkpoint shards: 100%"
          }
        },
        "523cb824899e48c5b95c8c3b55050ea1": {
          "model_module": "@jupyter-widgets/controls",
          "model_name": "FloatProgressModel",
          "model_module_version": "1.5.0",
          "state": {
            "_dom_classes": [],
            "_model_module": "@jupyter-widgets/controls",
            "_model_module_version": "1.5.0",
            "_model_name": "FloatProgressModel",
            "_view_count": null,
            "_view_module": "@jupyter-widgets/controls",
            "_view_module_version": "1.5.0",
            "_view_name": "ProgressView",
            "bar_style": "success",
            "description": "",
            "description_tooltip": null,
            "layout": "IPY_MODEL_a3829c151dc74d998afd7ae37cad6b89",
            "max": 2,
            "min": 0,
            "orientation": "horizontal",
            "style": "IPY_MODEL_9c59f748c1e24e7cb64b7b36c2d4c499",
            "value": 2
          }
        },
        "72bf194c73e9478e947202a01f510581": {
          "model_module": "@jupyter-widgets/controls",
          "model_name": "HTMLModel",
          "model_module_version": "1.5.0",
          "state": {
            "_dom_classes": [],
            "_model_module": "@jupyter-widgets/controls",
            "_model_module_version": "1.5.0",
            "_model_name": "HTMLModel",
            "_view_count": null,
            "_view_module": "@jupyter-widgets/controls",
            "_view_module_version": "1.5.0",
            "_view_name": "HTMLView",
            "description": "",
            "description_tooltip": null,
            "layout": "IPY_MODEL_f9b86be4319c42ae83a0237113e3a718",
            "placeholder": "​",
            "style": "IPY_MODEL_8dd6dadcee454929bad2ca43095d7bd5",
            "value": " 2/2 [00:01&lt;00:00,  1.11it/s]"
          }
        },
        "2a610cff93d9457794c9743760c594c0": {
          "model_module": "@jupyter-widgets/base",
          "model_name": "LayoutModel",
          "model_module_version": "1.2.0",
          "state": {
            "_model_module": "@jupyter-widgets/base",
            "_model_module_version": "1.2.0",
            "_model_name": "LayoutModel",
            "_view_count": null,
            "_view_module": "@jupyter-widgets/base",
            "_view_module_version": "1.2.0",
            "_view_name": "LayoutView",
            "align_content": null,
            "align_items": null,
            "align_self": null,
            "border": null,
            "bottom": null,
            "display": null,
            "flex": null,
            "flex_flow": null,
            "grid_area": null,
            "grid_auto_columns": null,
            "grid_auto_flow": null,
            "grid_auto_rows": null,
            "grid_column": null,
            "grid_gap": null,
            "grid_row": null,
            "grid_template_areas": null,
            "grid_template_columns": null,
            "grid_template_rows": null,
            "height": null,
            "justify_content": null,
            "justify_items": null,
            "left": null,
            "margin": null,
            "max_height": null,
            "max_width": null,
            "min_height": null,
            "min_width": null,
            "object_fit": null,
            "object_position": null,
            "order": null,
            "overflow": null,
            "overflow_x": null,
            "overflow_y": null,
            "padding": null,
            "right": null,
            "top": null,
            "visibility": null,
            "width": null
          }
        },
        "3b7a592a3acb4ed6a6ff0b48ca07f185": {
          "model_module": "@jupyter-widgets/base",
          "model_name": "LayoutModel",
          "model_module_version": "1.2.0",
          "state": {
            "_model_module": "@jupyter-widgets/base",
            "_model_module_version": "1.2.0",
            "_model_name": "LayoutModel",
            "_view_count": null,
            "_view_module": "@jupyter-widgets/base",
            "_view_module_version": "1.2.0",
            "_view_name": "LayoutView",
            "align_content": null,
            "align_items": null,
            "align_self": null,
            "border": null,
            "bottom": null,
            "display": null,
            "flex": null,
            "flex_flow": null,
            "grid_area": null,
            "grid_auto_columns": null,
            "grid_auto_flow": null,
            "grid_auto_rows": null,
            "grid_column": null,
            "grid_gap": null,
            "grid_row": null,
            "grid_template_areas": null,
            "grid_template_columns": null,
            "grid_template_rows": null,
            "height": null,
            "justify_content": null,
            "justify_items": null,
            "left": null,
            "margin": null,
            "max_height": null,
            "max_width": null,
            "min_height": null,
            "min_width": null,
            "object_fit": null,
            "object_position": null,
            "order": null,
            "overflow": null,
            "overflow_x": null,
            "overflow_y": null,
            "padding": null,
            "right": null,
            "top": null,
            "visibility": null,
            "width": null
          }
        },
        "20d2c96893b24b939c5646b3640a6661": {
          "model_module": "@jupyter-widgets/controls",
          "model_name": "DescriptionStyleModel",
          "model_module_version": "1.5.0",
          "state": {
            "_model_module": "@jupyter-widgets/controls",
            "_model_module_version": "1.5.0",
            "_model_name": "DescriptionStyleModel",
            "_view_count": null,
            "_view_module": "@jupyter-widgets/base",
            "_view_module_version": "1.2.0",
            "_view_name": "StyleView",
            "description_width": ""
          }
        },
        "a3829c151dc74d998afd7ae37cad6b89": {
          "model_module": "@jupyter-widgets/base",
          "model_name": "LayoutModel",
          "model_module_version": "1.2.0",
          "state": {
            "_model_module": "@jupyter-widgets/base",
            "_model_module_version": "1.2.0",
            "_model_name": "LayoutModel",
            "_view_count": null,
            "_view_module": "@jupyter-widgets/base",
            "_view_module_version": "1.2.0",
            "_view_name": "LayoutView",
            "align_content": null,
            "align_items": null,
            "align_self": null,
            "border": null,
            "bottom": null,
            "display": null,
            "flex": null,
            "flex_flow": null,
            "grid_area": null,
            "grid_auto_columns": null,
            "grid_auto_flow": null,
            "grid_auto_rows": null,
            "grid_column": null,
            "grid_gap": null,
            "grid_row": null,
            "grid_template_areas": null,
            "grid_template_columns": null,
            "grid_template_rows": null,
            "height": null,
            "justify_content": null,
            "justify_items": null,
            "left": null,
            "margin": null,
            "max_height": null,
            "max_width": null,
            "min_height": null,
            "min_width": null,
            "object_fit": null,
            "object_position": null,
            "order": null,
            "overflow": null,
            "overflow_x": null,
            "overflow_y": null,
            "padding": null,
            "right": null,
            "top": null,
            "visibility": null,
            "width": null
          }
        },
        "9c59f748c1e24e7cb64b7b36c2d4c499": {
          "model_module": "@jupyter-widgets/controls",
          "model_name": "ProgressStyleModel",
          "model_module_version": "1.5.0",
          "state": {
            "_model_module": "@jupyter-widgets/controls",
            "_model_module_version": "1.5.0",
            "_model_name": "ProgressStyleModel",
            "_view_count": null,
            "_view_module": "@jupyter-widgets/base",
            "_view_module_version": "1.2.0",
            "_view_name": "StyleView",
            "bar_color": null,
            "description_width": ""
          }
        },
        "f9b86be4319c42ae83a0237113e3a718": {
          "model_module": "@jupyter-widgets/base",
          "model_name": "LayoutModel",
          "model_module_version": "1.2.0",
          "state": {
            "_model_module": "@jupyter-widgets/base",
            "_model_module_version": "1.2.0",
            "_model_name": "LayoutModel",
            "_view_count": null,
            "_view_module": "@jupyter-widgets/base",
            "_view_module_version": "1.2.0",
            "_view_name": "LayoutView",
            "align_content": null,
            "align_items": null,
            "align_self": null,
            "border": null,
            "bottom": null,
            "display": null,
            "flex": null,
            "flex_flow": null,
            "grid_area": null,
            "grid_auto_columns": null,
            "grid_auto_flow": null,
            "grid_auto_rows": null,
            "grid_column": null,
            "grid_gap": null,
            "grid_row": null,
            "grid_template_areas": null,
            "grid_template_columns": null,
            "grid_template_rows": null,
            "height": null,
            "justify_content": null,
            "justify_items": null,
            "left": null,
            "margin": null,
            "max_height": null,
            "max_width": null,
            "min_height": null,
            "min_width": null,
            "object_fit": null,
            "object_position": null,
            "order": null,
            "overflow": null,
            "overflow_x": null,
            "overflow_y": null,
            "padding": null,
            "right": null,
            "top": null,
            "visibility": null,
            "width": null
          }
        },
        "8dd6dadcee454929bad2ca43095d7bd5": {
          "model_module": "@jupyter-widgets/controls",
          "model_name": "DescriptionStyleModel",
          "model_module_version": "1.5.0",
          "state": {
            "_model_module": "@jupyter-widgets/controls",
            "_model_module_version": "1.5.0",
            "_model_name": "DescriptionStyleModel",
            "_view_count": null,
            "_view_module": "@jupyter-widgets/base",
            "_view_module_version": "1.2.0",
            "_view_name": "StyleView",
            "description_width": ""
          }
        }
      }
    }
  },
  "cells": [
    {
      "cell_type": "markdown",
      "source": [
        "# Download the model if necessary"
      ],
      "metadata": {
        "id": "YLdA531MGb1z"
      }
    },
    {
      "cell_type": "code",
      "execution_count": null,
      "metadata": {
        "id": "_Yb32Hcxnn_C"
      },
      "outputs": [],
      "source": [
        "data_path=\"/content/drive/Shareddrives/GenomeOcean/\""
      ]
    },
    {
      "cell_type": "code",
      "source": [
        "!nvidia-smi"
      ],
      "metadata": {
        "colab": {
          "base_uri": "https://localhost:8080/"
        },
        "id": "q7lMflF2ocIH",
        "outputId": "d40bd554-61ae-447d-e16c-e8863356cc4e"
      },
      "execution_count": null,
      "outputs": [
        {
          "output_type": "stream",
          "name": "stdout",
          "text": [
            "Wed Dec  4 00:35:18 2024       \n",
            "+---------------------------------------------------------------------------------------+\n",
            "| NVIDIA-SMI 535.104.05             Driver Version: 535.104.05   CUDA Version: 12.2     |\n",
            "|-----------------------------------------+----------------------+----------------------+\n",
            "| GPU  Name                 Persistence-M | Bus-Id        Disp.A | Volatile Uncorr. ECC |\n",
            "| Fan  Temp   Perf          Pwr:Usage/Cap |         Memory-Usage | GPU-Util  Compute M. |\n",
            "|                                         |                      |               MIG M. |\n",
            "|=========================================+======================+======================|\n",
            "|   0  Tesla T4                       Off | 00000000:00:04.0 Off |                    0 |\n",
            "| N/A   48C    P8               9W /  70W |      0MiB / 15360MiB |      0%      Default |\n",
            "|                                         |                      |                  N/A |\n",
            "+-----------------------------------------+----------------------+----------------------+\n",
            "                                                                                         \n",
            "+---------------------------------------------------------------------------------------+\n",
            "| Processes:                                                                            |\n",
            "|  GPU   GI   CI        PID   Type   Process name                            GPU Memory |\n",
            "|        ID   ID                                                             Usage      |\n",
            "|=======================================================================================|\n",
            "|  No running processes found                                                           |\n",
            "+---------------------------------------------------------------------------------------+\n"
          ]
        }
      ]
    },
    {
      "cell_type": "code",
      "source": [
        "%%bash\n",
        "\n",
        "curl \"https://s3.amazonaws.com/aws-cli/awscli-bundle.zip\" -o \"awscli-bundle.zip\"\n",
        "unzip awscli-bundle.zip\n",
        "apt install -y python3.10-venv\n",
        "\n",
        "./awscli-bundle/install -i /usr/local/aws -b /usr/local/bin/aws\n"
      ],
      "metadata": {
        "colab": {
          "base_uri": "https://localhost:8080/"
        },
        "id": "AtAXH0EGogsl",
        "outputId": "3a6401fb-fcef-474b-ebe4-23ad2d956819"
      },
      "execution_count": null,
      "outputs": [
        {
          "output_type": "stream",
          "name": "stdout",
          "text": [
            "Archive:  awscli-bundle.zip\n",
            "  inflating: awscli-bundle/install   \n",
            "  inflating: awscli-bundle/packages/virtualenv-16.7.8.tar.gz  \n",
            "  inflating: awscli-bundle/packages/jmespath-0.10.0.tar.gz  \n",
            "  inflating: awscli-bundle/packages/colorama-0.4.5.tar.gz  \n",
            "  inflating: awscli-bundle/packages/botocore-1.35.74.tar.gz  \n",
            "  inflating: awscli-bundle/packages/docutils-0.16.tar.gz  \n",
            "  inflating: awscli-bundle/packages/pyyaml-6.0.2.tar.gz  \n",
            "  inflating: awscli-bundle/packages/rsa-4.7.2.tar.gz  \n",
            "  inflating: awscli-bundle/packages/s3transfer-0.10.4.tar.gz  \n",
            "  inflating: awscli-bundle/packages/jmespath-1.0.1.tar.gz  \n",
            "  inflating: awscli-bundle/packages/pyasn1-0.6.1.tar.gz  \n",
            "  inflating: awscli-bundle/packages/python-dateutil-2.9.0.post0.tar.gz  \n",
            "  inflating: awscli-bundle/packages/urllib3-1.26.20.tar.gz  \n",
            "  inflating: awscli-bundle/packages/six-1.16.0.tar.gz  \n",
            "  inflating: awscli-bundle/packages/awscli-1.36.15.tar.gz  \n",
            "  inflating: awscli-bundle/packages/setup/setuptools_scm-3.3.3.tar.gz  \n",
            "  inflating: awscli-bundle/packages/setup/wheel-0.33.6.tar.gz  \n",
            "Reading package lists...\n",
            "Building dependency tree...\n",
            "Reading state information...\n",
            "The following additional packages will be installed:\n",
            "  python3-pip-whl python3-setuptools-whl\n",
            "The following NEW packages will be installed:\n",
            "  python3-pip-whl python3-setuptools-whl python3.10-venv\n",
            "0 upgraded, 3 newly installed, 0 to remove and 49 not upgraded.\n",
            "Need to get 2,474 kB of archives.\n",
            "After this operation, 2,885 kB of additional disk space will be used.\n",
            "Get:1 http://archive.ubuntu.com/ubuntu jammy-updates/universe amd64 python3-pip-whl all 22.0.2+dfsg-1ubuntu0.5 [1,680 kB]\n",
            "Get:2 http://archive.ubuntu.com/ubuntu jammy-updates/universe amd64 python3-setuptools-whl all 59.6.0-1.2ubuntu0.22.04.2 [788 kB]\n",
            "Get:3 http://archive.ubuntu.com/ubuntu jammy-updates/universe amd64 python3.10-venv amd64 3.10.12-1~22.04.7 [5,718 B]\n",
            "Fetched 2,474 kB in 1s (3,426 kB/s)\n",
            "Selecting previously unselected package python3-pip-whl.\r\n",
            "(Reading database ... \r(Reading database ... 5%\r(Reading database ... 10%\r(Reading database ... 15%\r(Reading database ... 20%\r(Reading database ... 25%\r(Reading database ... 30%\r(Reading database ... 35%\r(Reading database ... 40%\r(Reading database ... 45%\r(Reading database ... 50%\r(Reading database ... 55%\r(Reading database ... 60%\r(Reading database ... 65%\r(Reading database ... 70%\r(Reading database ... 75%\r(Reading database ... 80%\r(Reading database ... 85%\r(Reading database ... 90%\r(Reading database ... 95%\r(Reading database ... 100%\r(Reading database ... 123632 files and directories currently installed.)\r\n",
            "Preparing to unpack .../python3-pip-whl_22.0.2+dfsg-1ubuntu0.5_all.deb ...\r\n",
            "Unpacking python3-pip-whl (22.0.2+dfsg-1ubuntu0.5) ...\r\n",
            "Selecting previously unselected package python3-setuptools-whl.\r\n",
            "Preparing to unpack .../python3-setuptools-whl_59.6.0-1.2ubuntu0.22.04.2_all.deb ...\r\n",
            "Unpacking python3-setuptools-whl (59.6.0-1.2ubuntu0.22.04.2) ...\r\n",
            "Selecting previously unselected package python3.10-venv.\r\n",
            "Preparing to unpack .../python3.10-venv_3.10.12-1~22.04.7_amd64.deb ...\r\n",
            "Unpacking python3.10-venv (3.10.12-1~22.04.7) ...\r\n",
            "Setting up python3-setuptools-whl (59.6.0-1.2ubuntu0.22.04.2) ...\r\n",
            "Setting up python3-pip-whl (22.0.2+dfsg-1ubuntu0.5) ...\r\n",
            "Setting up python3.10-venv (3.10.12-1~22.04.7) ...\r\n",
            "Running cmd: /usr/bin/python3 -m venv /usr/local/aws\n",
            "Running cmd: /usr/local/aws/bin/python -m pip install --no-binary :all: --no-cache-dir --no-index --find-links file://. setuptools_scm-3.3.3.tar.gz\n",
            "Running cmd: /usr/local/aws/bin/python -m pip install --no-binary :all: --no-cache-dir --no-index --find-links file://. wheel-0.33.6.tar.gz\n",
            "Running cmd: /usr/local/aws/bin/python -m pip install --no-binary :all: --no-build-isolation --no-cache-dir --no-index  --find-links file:///content/awscli-bundle/packages awscli-1.36.15.tar.gz\n",
            "You can now run: /usr/local/bin/aws --version\n",
            "\n",
            "Note: AWS CLI version 2, the latest major version of the AWS CLI, is now stable and recommended for general use. For more information, see the AWS CLI version 2 installation instructions at: https://docs.aws.amazon.com/cli/latest/userguide/install-cliv2.html\n"
          ]
        },
        {
          "output_type": "stream",
          "name": "stderr",
          "text": [
            "  % Total    % Received % Xferd  Average Speed   Time    Time     Time  Current\n",
            "                                 Dload  Upload   Total   Spent    Left  Speed\n",
            "\r  0     0    0     0    0     0      0      0 --:--:-- --:--:-- --:--:--     0\r  1 22.4M    1  304k    0     0   559k      0  0:00:41 --:--:--  0:00:41  558k\r100 22.4M  100 22.4M    0     0  19.3M      0  0:00:01  0:00:01 --:--:-- 19.3M\n",
            "\n",
            "WARNING: apt does not have a stable CLI interface. Use with caution in scripts.\n",
            "\n"
          ]
        }
      ]
    },
    {
      "cell_type": "code",
      "source": [
        "%%bash\n",
        "# add aws credentials\n",
        "mkdir -p ~/.aws\n",
        "echo \"[default]\" > ~/.aws/credentials\n",
        "echo \"aws_access_key_id = \" >> ~/.aws/credentials\n",
        "echo \"aws_secret_access_key = \" >> ~/.aws/credentials\n",
        "\n",
        "echo \"[default]\" > ~/.aws/config\n",
        "echo \"output = json\" >> ~/.aws/config\n",
        "echo \"region = us-east-1\" >> ~/.aws/config\n"
      ],
      "metadata": {
        "id": "R92vB1d-ow2z"
      },
      "execution_count": null,
      "outputs": []
    },
    {
      "cell_type": "code",
      "source": [
        "!aws s3 sync s3://share.jgi-ga.org/genomeocean/ /content/drive/Shareddrives/GenomeOcean/data/trained_models/"
      ],
      "metadata": {
        "id": "1uyDIZR3pQOp"
      },
      "execution_count": null,
      "outputs": []
    },
    {
      "cell_type": "markdown",
      "source": [
        "# Test genomeocean model"
      ],
      "metadata": {
        "id": "ERon3L8AGZsZ"
      }
    },
    {
      "cell_type": "markdown",
      "source": [
        "## 1. Embedding"
      ],
      "metadata": {
        "id": "vLgRCb9KHD-9"
      }
    },
    {
      "cell_type": "code",
      "source": [
        "import os\n",
        "import numpy as np\n",
        "import transformers\n",
        "import torch\n",
        "import torch.utils.data as util_data\n",
        "import torch.nn as nn\n",
        "import tqdm\n",
        "\n",
        "from torch.utils.data import Dataset, DataLoader\n",
        "import pandas as pd"
      ],
      "metadata": {
        "id": "gM3sfpH7t37U"
      },
      "execution_count": null,
      "outputs": []
    },
    {
      "cell_type": "code",
      "source": [
        "def calculate_llm_embedding(dna_sequences,\n",
        "                            model_name_or_path,\n",
        "                            model_max_length=400,\n",
        "                            batch_size=25,\n",
        "                           ):\n",
        "    \"\"\"\n",
        "    # reorder the sequences by length\n",
        "    # process sequences with similar lengths in the same batch can greatly speed up the computation\n",
        "    # need to adjust batch_size according to the GPU memory\n",
        "    # use all GPUs on a node\n",
        "    \"\"\"\n",
        "\n",
        "    lengths = [len(seq) for seq in dna_sequences]\n",
        "    idx = np.argsort(lengths)\n",
        "    dna_sequences = [dna_sequences[i] for i in idx]\n",
        "\n",
        "    tokenizer = transformers.AutoTokenizer.from_pretrained(\n",
        "            model_name_or_path,\n",
        "            cache_dir=None,\n",
        "            model_max_length=model_max_length,\n",
        "            padding_side=\"left\",\n",
        "            use_fast=True,\n",
        "            trust_remote_code=True,\n",
        "        )\n",
        "\n",
        "\n",
        "    model = transformers.AutoModel.from_pretrained(\n",
        "            model_name_or_path,\n",
        "            trust_remote_code=True,\n",
        "            torch_dtype=torch.bfloat16,\n",
        "            # attn_implementation=\"flash_attention_2\", #T4 doesn't support flash_att2\n",
        "        )\n",
        "\n",
        "\n",
        "    n_gpu = torch.cuda.device_count()\n",
        "    if n_gpu > 1:\n",
        "        model = nn.DataParallel(model)\n",
        "\n",
        "    model.to(\"cuda\")\n",
        "\n",
        "\n",
        "    train_loader = util_data.DataLoader(dna_sequences, batch_size=batch_size*n_gpu, shuffle=False, num_workers=2*n_gpu,  prefetch_factor=2)\n",
        "    for j, batch in enumerate(tqdm.tqdm(train_loader)):\n",
        "        with torch.no_grad():\n",
        "            token_feat = tokenizer.batch_encode_plus(\n",
        "                    batch,\n",
        "                    max_length=model_max_length,\n",
        "                    return_tensors='pt',\n",
        "                    padding='longest',\n",
        "                    truncation=True\n",
        "                )\n",
        "            input_ids = token_feat['input_ids'].cuda()\n",
        "            attention_mask = token_feat['attention_mask'].cuda()\n",
        "            model_output = model.forward(input_ids=input_ids, attention_mask=attention_mask)[0].detach().cpu()\n",
        "\n",
        "            attention_mask = attention_mask.unsqueeze(-1).detach().cpu()\n",
        "            embedding = torch.sum(model_output*attention_mask, dim=1) / torch.sum(attention_mask, dim=1)\n",
        "\n",
        "            if j==0:\n",
        "                embeddings = embedding\n",
        "            else:\n",
        "                embeddings = torch.cat((embeddings, embedding), dim=0)\n",
        "\n",
        "    embeddings = np.array(embeddings.detach().float().cpu())\n",
        "\n",
        "\n",
        "    # reorder the embeddings according to the original order\n",
        "    embeddings = embeddings[np.argsort(idx)]\n",
        "\n",
        "    return embeddings"
      ],
      "metadata": {
        "id": "9n8BICeAG4ii"
      },
      "execution_count": null,
      "outputs": []
    },
    {
      "cell_type": "code",
      "source": [
        "data_path=\"/content/drive/Shareddrives/GenomeOcean/\"\n",
        "model_path = data_path + 'data/trained_models/meta_hmp_seq10240'\n",
        "seq_path = data_path + 'data/metagenome_binning/zymo_mock/embeddings/zymo_mock_seqs_10kb.csv.gz'\n",
        "model_max_length = 10240\n",
        "\n",
        "dna = pd.read_csv(seq_path, sep='\\t', compression='gzip')\n",
        "\n",
        "embeddings = calculate_llm_embedding(\n",
        "    list(dna['seq'].values),\n",
        "    model_name_or_path=model_path,\n",
        "    model_max_length=model_max_length,\n",
        "    batch_size=50\n",
        ")\n"
      ],
      "metadata": {
        "colab": {
          "base_uri": "https://localhost:8080/",
          "height": 66,
          "referenced_widgets": [
            "f548c93bdffb41cc86dd3ce85be5d385",
            "8cfed4dfb99f401286a25d75b85c7ee7",
            "523cb824899e48c5b95c8c3b55050ea1",
            "72bf194c73e9478e947202a01f510581",
            "2a610cff93d9457794c9743760c594c0",
            "3b7a592a3acb4ed6a6ff0b48ca07f185",
            "20d2c96893b24b939c5646b3640a6661",
            "a3829c151dc74d998afd7ae37cad6b89",
            "9c59f748c1e24e7cb64b7b36c2d4c499",
            "f9b86be4319c42ae83a0237113e3a718",
            "8dd6dadcee454929bad2ca43095d7bd5"
          ]
        },
        "id": "TEzfLgbaHIUT",
        "outputId": "e8057e64-5cbb-464f-cf19-31dc2e1d4b3f"
      },
      "execution_count": null,
      "outputs": [
        {
          "output_type": "display_data",
          "data": {
            "text/plain": [
              "Loading checkpoint shards:   0%|          | 0/2 [00:00<?, ?it/s]"
            ],
            "application/vnd.jupyter.widget-view+json": {
              "version_major": 2,
              "version_minor": 0,
              "model_id": "f548c93bdffb41cc86dd3ce85be5d385"
            }
          },
          "metadata": {}
        },
        {
          "output_type": "stream",
          "name": "stderr",
          "text": [
            "  1%|          | 6/587 [01:09<2:12:59, 13.73s/it]"
          ]
        }
      ]
    },
    {
      "cell_type": "code",
      "source": [],
      "metadata": {
        "id": "tFQyHgQAIVWI"
      },
      "execution_count": null,
      "outputs": []
    }
  ]
}